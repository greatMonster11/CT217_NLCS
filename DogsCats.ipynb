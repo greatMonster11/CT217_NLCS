{
 "cells": [
  {
   "cell_type": "code",
   "execution_count": 3,
   "metadata": {},
   "outputs": [],
   "source": [
    "# Part 1 - Building the CNN\n",
    "\n",
    "# Importing the Keras libraries and packages\n",
    "from keras.models import Sequential\n",
    "from keras.layers import Convolution2D\n",
    "from keras.layers import MaxPooling2D\n",
    "from keras.layers import Flatten\n",
    "from keras.layers import Dense"
   ]
  },
  {
   "cell_type": "code",
   "execution_count": 4,
   "metadata": {},
   "outputs": [
    {
     "name": "stderr",
     "output_type": "stream",
     "text": [
      "/usr/local/lib/python3.6/dist-packages/ipykernel_launcher.py:5: UserWarning: Update your `Conv2D` call to the Keras 2 API: `Conv2D(32, (3, 3), input_shape=(64, 64, 3..., activation=\"relu\")`\n",
      "  \"\"\"\n",
      "/usr/local/lib/python3.6/dist-packages/ipykernel_launcher.py:11: UserWarning: Update your `Conv2D` call to the Keras 2 API: `Conv2D(32, (3, 3), activation=\"relu\")`\n",
      "  # This is added back by InteractiveShellApp.init_path()\n",
      "/usr/local/lib/python3.6/dist-packages/ipykernel_launcher.py:18: UserWarning: Update your `Dense` call to the Keras 2 API: `Dense(activation=\"relu\", units=128)`\n",
      "/usr/local/lib/python3.6/dist-packages/ipykernel_launcher.py:19: UserWarning: Update your `Dense` call to the Keras 2 API: `Dense(activation=\"sigmoid\", units=1)`\n"
     ]
    }
   ],
   "source": [
    "# Initialising the CNN\n",
    "classifier = Sequential()\n",
    "\n",
    "# Step 1 - Convolution\n",
    "classifier.add(Convolution2D(32, 3, 3, input_shape = (64, 64, 3), activation = 'relu'))\n",
    "\n",
    "# Step 2 - Pooling\n",
    "classifier.add(MaxPooling2D(pool_size = (2, 2)))\n",
    "\n",
    "# Adding a second convolutional layer\n",
    "classifier.add(Convolution2D(32, 3, 3, activation = 'relu'))\n",
    "classifier.add(MaxPooling2D(pool_size = (2, 2)))\n",
    "\n",
    "# Step 3 - Flattening\n",
    "classifier.add(Flatten())\n",
    "\n",
    "# Step 4 - Full connection\n",
    "classifier.add(Dense(output_dim = 128, activation = 'relu'))\n",
    "classifier.add(Dense(output_dim = 1, activation = 'sigmoid'))\n",
    "\n",
    "# Compiling the CNN\n",
    "classifier.compile(optimizer = 'adam', loss = 'binary_crossentropy', metrics = ['accuracy'])"
   ]
  },
  {
   "cell_type": "code",
   "execution_count": 5,
   "metadata": {},
   "outputs": [
    {
     "name": "stdout",
     "output_type": "stream",
     "text": [
      "Found 8000 images belonging to 2 classes.\n",
      "Found 2000 images belonging to 2 classes.\n"
     ]
    },
    {
     "name": "stderr",
     "output_type": "stream",
     "text": [
      "/usr/local/lib/python3.6/dist-packages/ipykernel_launcher.py:26: UserWarning: The semantics of the Keras 2 argument `steps_per_epoch` is not the same as the Keras 1 argument `samples_per_epoch`. `steps_per_epoch` is the number of batches to draw from the generator at each epoch. Basically steps_per_epoch = samples_per_epoch/batch_size. Similarly `nb_val_samples`->`validation_steps` and `val_samples`->`steps` arguments have changed. Update your method calls accordingly.\n",
      "/usr/local/lib/python3.6/dist-packages/ipykernel_launcher.py:26: UserWarning: Update your `fit_generator` call to the Keras 2 API: `fit_generator(<keras.pre..., validation_data=<keras.pre..., steps_per_epoch=250, epochs=25, validation_steps=2000)`\n"
     ]
    },
    {
     "name": "stdout",
     "output_type": "stream",
     "text": [
      "Epoch 1/25\n",
      "250/250 [==============================] - 418s 2s/step - loss: 0.6786 - accuracy: 0.5757 - val_loss: 0.6286 - val_accuracy: 0.6588\n",
      "Epoch 2/25\n",
      "250/250 [==============================] - 411s 2s/step - loss: 0.6070 - accuracy: 0.6735 - val_loss: 0.6595 - val_accuracy: 0.7118\n",
      "Epoch 3/25\n",
      "250/250 [==============================] - 335s 1s/step - loss: 0.5724 - accuracy: 0.6979 - val_loss: 0.6248 - val_accuracy: 0.7200\n",
      "Epoch 4/25\n",
      "250/250 [==============================] - 337s 1s/step - loss: 0.5312 - accuracy: 0.7309 - val_loss: 0.5671 - val_accuracy: 0.7270\n",
      "Epoch 5/25\n",
      "250/250 [==============================] - 298s 1s/step - loss: 0.5210 - accuracy: 0.7399 - val_loss: 0.5602 - val_accuracy: 0.7448\n",
      "Epoch 6/25\n",
      "250/250 [==============================] - 289s 1s/step - loss: 0.4940 - accuracy: 0.7576 - val_loss: 0.5229 - val_accuracy: 0.7753\n",
      "Epoch 7/25\n",
      "250/250 [==============================] - 317s 1s/step - loss: 0.4809 - accuracy: 0.7666 - val_loss: 0.4101 - val_accuracy: 0.7774\n",
      "Epoch 8/25\n",
      "250/250 [==============================] - 312s 1s/step - loss: 0.4768 - accuracy: 0.7697 - val_loss: 0.3296 - val_accuracy: 0.7690\n",
      "Epoch 9/25\n",
      "250/250 [==============================] - 275s 1s/step - loss: 0.4581 - accuracy: 0.7809 - val_loss: 0.5171 - val_accuracy: 0.7643\n",
      "Epoch 10/25\n",
      "250/250 [==============================] - 230s 919ms/step - loss: 0.4549 - accuracy: 0.7824 - val_loss: 0.3893 - val_accuracy: 0.7858\n",
      "Epoch 11/25\n",
      "250/250 [==============================] - 211s 844ms/step - loss: 0.4345 - accuracy: 0.8025 - val_loss: 0.7794 - val_accuracy: 0.7477\n",
      "Epoch 12/25\n",
      "250/250 [==============================] - 186s 743ms/step - loss: 0.4218 - accuracy: 0.8016 - val_loss: 0.3715 - val_accuracy: 0.7766\n",
      "Epoch 13/25\n",
      "250/250 [==============================] - 177s 707ms/step - loss: 0.4173 - accuracy: 0.8062 - val_loss: 0.6003 - val_accuracy: 0.7829\n",
      "Epoch 14/25\n",
      "250/250 [==============================] - 200s 801ms/step - loss: 0.3983 - accuracy: 0.8207 - val_loss: 0.6584 - val_accuracy: 0.7885\n",
      "Epoch 15/25\n",
      "250/250 [==============================] - 459s 2s/step - loss: 0.3974 - accuracy: 0.8183 - val_loss: 0.5837 - val_accuracy: 0.7818\n",
      "Epoch 16/25\n",
      "250/250 [==============================] - 454s 2s/step - loss: 0.3859 - accuracy: 0.8294 - val_loss: 0.3296 - val_accuracy: 0.7961\n",
      "Epoch 17/25\n",
      "250/250 [==============================] - 373s 1s/step - loss: 0.3744 - accuracy: 0.8286 - val_loss: 0.4177 - val_accuracy: 0.7950\n",
      "Epoch 18/25\n",
      "250/250 [==============================] - 369s 1s/step - loss: 0.3686 - accuracy: 0.8330 - val_loss: 0.3456 - val_accuracy: 0.7910\n",
      "Epoch 19/25\n",
      "250/250 [==============================] - 351s 1s/step - loss: 0.3542 - accuracy: 0.8375 - val_loss: 0.4278 - val_accuracy: 0.7851\n",
      "Epoch 20/25\n",
      "250/250 [==============================] - 369s 1s/step - loss: 0.3444 - accuracy: 0.8472 - val_loss: 0.3343 - val_accuracy: 0.7925\n",
      "Epoch 21/25\n",
      "250/250 [==============================] - 259s 1s/step - loss: 0.3352 - accuracy: 0.8536 - val_loss: 0.2752 - val_accuracy: 0.8043\n",
      "Epoch 22/25\n",
      "250/250 [==============================] - 274s 1s/step - loss: 0.3262 - accuracy: 0.8574 - val_loss: 0.3733 - val_accuracy: 0.7937\n",
      "Epoch 23/25\n",
      "250/250 [==============================] - 186s 744ms/step - loss: 0.3191 - accuracy: 0.8601 - val_loss: 0.7834 - val_accuracy: 0.8146\n",
      "Epoch 24/25\n",
      "250/250 [==============================] - 179s 717ms/step - loss: 0.3019 - accuracy: 0.8742 - val_loss: 0.4855 - val_accuracy: 0.8160\n",
      "Epoch 25/25\n",
      "250/250 [==============================] - 188s 751ms/step - loss: 0.3060 - accuracy: 0.8677 - val_loss: 0.4529 - val_accuracy: 0.7890\n"
     ]
    },
    {
     "data": {
      "text/plain": [
       "<keras.callbacks.callbacks.History at 0x7f8c1c674fd0>"
      ]
     },
     "execution_count": 5,
     "metadata": {},
     "output_type": "execute_result"
    }
   ],
   "source": [
    "# Part 2 - Fitting the CNN to the images\n",
    "\n",
    "from keras.preprocessing.image import ImageDataGenerator\n",
    "\n",
    "train_datagen = ImageDataGenerator(rescale = 1./255,\n",
    "                                   shear_range = 0.2,\n",
    "                                   zoom_range = 0.2,\n",
    "                                   horizontal_flip = True)\n",
    "\n",
    "test_datagen = ImageDataGenerator(rescale = 1./255)\n",
    "\n",
    "training_set = train_datagen.flow_from_directory('dataset/training_set',\n",
    "                                                 target_size = (64, 64),\n",
    "                                                 batch_size = 32,\n",
    "                                                 class_mode = 'binary')\n",
    "\n",
    "test_set = test_datagen.flow_from_directory('dataset/test_set',\n",
    "                                            target_size = (64, 64),\n",
    "                                            batch_size = 32,\n",
    "                                            class_mode = 'binary')\n",
    "\n",
    "classifier.fit_generator(training_set,\n",
    "                         samples_per_epoch = 8000,\n",
    "                         nb_epoch = 25,\n",
    "                         validation_data = test_set,\n",
    "                         nb_val_samples = 2000)"
   ]
  },
  {
   "cell_type": "code",
   "execution_count": 8,
   "metadata": {},
   "outputs": [],
   "source": [
    "classifier.save('model.h5')"
   ]
  },
  {
   "cell_type": "code",
   "execution_count": 14,
   "metadata": {},
   "outputs": [
    {
     "name": "stdout",
     "output_type": "stream",
     "text": [
      "dog\n"
     ]
    }
   ],
   "source": [
    "import numpy as np\n",
    "from keras.preprocessing import image\n",
    "test_image = image.load_img('./meomeo.png', target_size = (64,64))\n",
    "test_image = image.img_to_array(test_image)\n",
    "test_image = np.expand_dims(test_image, axis = 0)\n",
    "result = classifier.predict(test_image)\n",
    "training_set.class_indices\n",
    "if result[0][0] >= 0.5:\n",
    "    prediction = 'dog'\n",
    "else:\n",
    "    prediction = 'cat'\n",
    "print(prediction)"
   ]
  },
  {
   "cell_type": "code",
   "execution_count": 15,
   "metadata": {},
   "outputs": [],
   "source": [
    "#### This is for using later #### \n",
    "#### ====>>>> Model trained and stored in the same diretory, named 'model.h5'\n",
    "#### Use the instance below "
   ]
  },
  {
   "cell_type": "code",
   "execution_count": null,
   "metadata": {},
   "outputs": [],
   "source": [
    "from keras.models import load_model\n",
    "import cv2\n",
    "import numpy as np\n",
    "\n",
    "model = load_model('model.h5')\n",
    "\n",
    "model.compile(loss='binary_crossentropy',\n",
    "              optimizer='rmsprop',\n",
    "              metrics=['accuracy'])\n",
    "\n",
    "img = cv2.imread('test.jpg') ### testing image(*.png) go here !!!!!\n",
    "img = cv2.resize(img,(64,64))\n",
    "img = np.reshape(img,[1,64,64,3])\n",
    "\n",
    "classes = model.predict_classes(img)\n",
    "\n",
    "print(classes)"
   ]
  }
 ],
 "metadata": {
  "kernelspec": {
   "display_name": "Python 3",
   "language": "python",
   "name": "python3"
  },
  "language_info": {
   "codemirror_mode": {
    "name": "ipython",
    "version": 3
   },
   "file_extension": ".py",
   "mimetype": "text/x-python",
   "name": "python",
   "nbconvert_exporter": "python",
   "pygments_lexer": "ipython3",
   "version": "3.6.8"
  }
 },
 "nbformat": 4,
 "nbformat_minor": 2
}
