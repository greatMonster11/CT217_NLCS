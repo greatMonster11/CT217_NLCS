{
 "cells": [
  {
   "cell_type": "code",
   "execution_count": 1,
   "metadata": {
    "colab": {
     "base_uri": "https://localhost:8080/",
     "height": 34
    },
    "colab_type": "code",
    "id": "oXc_H2LCQ3K8",
    "outputId": "7a4bdf51-fbb6-42ae-d91f-c0e07b1a60a5"
   },
   "outputs": [
    {
     "name": "stderr",
     "output_type": "stream",
     "text": [
      "Using TensorFlow backend.\n"
     ]
    }
   ],
   "source": [
    "import keras\n",
    "from keras.datasets import mnist\n",
    "from keras.models import Sequential\n",
    "from keras.layers import Dense, Dropout, Flatten\n",
    "from keras.layers import Conv2D, MaxPooling2D\n",
    "import numpy as np\n"
   ]
  },
  {
   "cell_type": "code",
   "execution_count": 2,
   "metadata": {
    "colab": {
     "base_uri": "https://localhost:8080/",
     "height": 102
    },
    "colab_type": "code",
    "id": "aqwSvDAlRAjT",
    "outputId": "1795723f-3ac1-4dec-950a-447a832f437c"
   },
   "outputs": [
    {
     "name": "stdout",
     "output_type": "stream",
     "text": [
      "Downloading data from https://s3.amazonaws.com/img-datasets/mnist.npz\n",
      "11493376/11490434 [==============================] - 11s 1us/step\n",
      "x_train shape: (60000, 28, 28, 1)\n",
      "60000 train samples\n",
      "10000 test samples\n"
     ]
    }
   ],
   "source": [
    "batch_size = 128\n",
    "num_classes = 10\n",
    "epochs = 12\n",
    "\n",
    "# input image dimensions\n",
    "img_rows, img_cols = 28, 28\n",
    "\n",
    "# the data, split between train and test sets\n",
    "(x_train, y_train), (x_test, y_test) = mnist.load_data()\n",
    "\n",
    "x_train = x_train.reshape(60000,28,28,1)\n",
    "x_test = x_test.reshape(10000,28,28,1)\n",
    "\n",
    "print('x_train shape:', x_train.shape)\n",
    "print(x_train.shape[0], 'train samples')\n",
    "print(x_test.shape[0], 'test samples')\n",
    "\n",
    "# convert class vectors to binary class matrices\n",
    "y_train = keras.utils.to_categorical(y_train, num_classes)\n",
    "y_test = keras.utils.to_categorical(y_test, num_classes)\n"
   ]
  },
  {
   "cell_type": "code",
   "execution_count": 3,
   "metadata": {
    "colab": {
     "base_uri": "https://localhost:8080/",
     "height": 258
    },
    "colab_type": "code",
    "id": "HeyYpO7LRKde",
    "outputId": "3e4ed45f-5da2-4764-9aba-2db4ab914eb2"
   },
   "outputs": [],
   "source": [
    "model = Sequential()\n",
    "model.add(Conv2D(32, kernel_size=(3, 3),\n",
    "                 activation='relu',\n",
    "                 input_shape=(28,28,1)))\n",
    "model.add(Conv2D(64, (3, 3), activation='relu'))\n",
    "model.add(MaxPooling2D(pool_size=(2, 2)))\n",
    "model.add(Dropout(0.25))\n",
    "model.add(Flatten())\n",
    "model.add(Dense(128, activation='relu'))\n",
    "model.add(Dropout(0.5))\n",
    "model.add(Dense(num_classes, activation='softmax'))"
   ]
  },
  {
   "cell_type": "code",
   "execution_count": 4,
   "metadata": {
    "colab": {
     "base_uri": "https://localhost:8080/",
     "height": 615
    },
    "colab_type": "code",
    "id": "JoZs9VQBG1-A",
    "outputId": "16411822-b2fa-4c18-f553-8de039ff2624"
   },
   "outputs": [
    {
     "name": "stdout",
     "output_type": "stream",
     "text": [
      "Train on 60000 samples, validate on 10000 samples\n",
      "Epoch 1/12\n",
      "60000/60000 [==============================] - 118s 2ms/step - loss: 0.8479 - accuracy: 0.8594 - val_loss: 0.0701 - val_accuracy: 0.9780\n",
      "Epoch 2/12\n",
      "60000/60000 [==============================] - 121s 2ms/step - loss: 0.1382 - accuracy: 0.9612 - val_loss: 0.0494 - val_accuracy: 0.9840\n",
      "Epoch 3/12\n",
      "60000/60000 [==============================] - 120s 2ms/step - loss: 0.0903 - accuracy: 0.9740 - val_loss: 0.0430 - val_accuracy: 0.9868\n",
      "Epoch 4/12\n",
      "60000/60000 [==============================] - 112s 2ms/step - loss: 0.0741 - accuracy: 0.9784 - val_loss: 0.0399 - val_accuracy: 0.9881\n",
      "Epoch 5/12\n",
      "60000/60000 [==============================] - 134s 2ms/step - loss: 0.0592 - accuracy: 0.9820 - val_loss: 0.0377 - val_accuracy: 0.9890\n",
      "Epoch 6/12\n",
      "60000/60000 [==============================] - 121s 2ms/step - loss: 0.0508 - accuracy: 0.9845 - val_loss: 0.0392 - val_accuracy: 0.9876\n",
      "Epoch 7/12\n",
      "60000/60000 [==============================] - 121s 2ms/step - loss: 0.0471 - accuracy: 0.9859 - val_loss: 0.0386 - val_accuracy: 0.9893\n",
      "Epoch 8/12\n",
      "60000/60000 [==============================] - 119s 2ms/step - loss: 0.0405 - accuracy: 0.9882 - val_loss: 0.0373 - val_accuracy: 0.9897\n",
      "Epoch 9/12\n",
      "60000/60000 [==============================] - 115s 2ms/step - loss: 0.0370 - accuracy: 0.9884 - val_loss: 0.0339 - val_accuracy: 0.9899\n",
      "Epoch 10/12\n",
      "60000/60000 [==============================] - 134s 2ms/step - loss: 0.0341 - accuracy: 0.9898 - val_loss: 0.0322 - val_accuracy: 0.9897\n",
      "Epoch 11/12\n",
      "60000/60000 [==============================] - 130s 2ms/step - loss: 0.0326 - accuracy: 0.9900 - val_loss: 0.0390 - val_accuracy: 0.9902\n",
      "Epoch 12/12\n",
      "60000/60000 [==============================] - 121s 2ms/step - loss: 0.0303 - accuracy: 0.9911 - val_loss: 0.0379 - val_accuracy: 0.9914\n",
      "Test loss: 0.037881877507371084\n",
      "Test accuracy: 0.9914000034332275\n"
     ]
    }
   ],
   "source": [
    "\n",
    "model.compile(loss=keras.losses.categorical_crossentropy,\n",
    "              optimizer=keras.optimizers.Adadelta(),\n",
    "              metrics=['accuracy'])\n",
    "\n",
    "model.fit(x_train, y_train,\n",
    "          batch_size=batch_size,\n",
    "          epochs=epochs,\n",
    "          verbose=1,\n",
    "          validation_data=(x_test, y_test))\n",
    "score = model.evaluate(x_test, y_test, verbose=0)\n",
    "print('Test loss:', score[0])\n",
    "print('Test accuracy:', score[1])"
   ]
  },
  {
   "cell_type": "code",
   "execution_count": null,
   "metadata": {},
   "outputs": [],
   "source": []
  }
 ],
 "metadata": {
  "colab": {
   "name": "CNN_codelab.ipynb",
   "provenance": []
  },
  "kernelspec": {
   "display_name": "Python 3",
   "language": "python",
   "name": "python3"
  },
  "language_info": {
   "codemirror_mode": {
    "name": "ipython",
    "version": 3
   },
   "file_extension": ".py",
   "mimetype": "text/x-python",
   "name": "python",
   "nbconvert_exporter": "python",
   "pygments_lexer": "ipython3",
   "version": "3.6.8"
  }
 },
 "nbformat": 4,
 "nbformat_minor": 1
}
